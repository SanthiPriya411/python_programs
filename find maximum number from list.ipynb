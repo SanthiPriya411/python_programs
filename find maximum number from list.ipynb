{
 "cells": [
  {
   "cell_type": "markdown",
   "id": "c051cf03",
   "metadata": {},
   "source": [
    "### to find the maximum element, if the conditions are satisfied\n",
    "1. num1<num2\n",
    "2. sum of digits is multiple of 3\n",
    "3. number has only 2 digits\n",
    "4. number is a multiple of 5\n",
    "display -1 incase of invalid data or list is empty"
   ]
  },
  {
   "cell_type": "code",
   "execution_count": 24,
   "id": "6f0ca4a5",
   "metadata": {},
   "outputs": [],
   "source": [
    "#\n",
    "def find_max(num1, num2):\n",
    "    max_num=-1\n",
    "    list1=[]\n",
    "    \n",
    "    for i in range(num1, num2+1):\n",
    "        if(num1<num2):\n",
    "            if((sum_of_digits(i)%3==0) and (i>9 and i<99) and (i%5==0)):\n",
    "                list1.append(i)\n",
    "                if (len(list1)==0):\n",
    "                    print(-1)\n",
    "                else:\n",
    "                    max_num=max(list1)\n",
    "            else:\n",
    "                pass\n",
    "        else:\n",
    "            print(-1)\n",
    "    return max_num \n",
    "\n",
    "\n",
    "#to find sum of digits        \n",
    "def sum_of_digits(number):\n",
    "    digit_sum=0\n",
    "    while(number>0):\n",
    "        rem=number%10\n",
    "        digit_sum=digit_sum+rem\n",
    "        number=number//10\n",
    "    return digit_sum        \n",
    "            "
   ]
  },
  {
   "cell_type": "code",
   "execution_count": null,
   "id": "63a0ef1d",
   "metadata": {},
   "outputs": [],
   "source": []
  },
  {
   "cell_type": "code",
   "execution_count": 26,
   "id": "7d595c37",
   "metadata": {},
   "outputs": [
    {
     "data": {
      "text/plain": [
       "-1"
      ]
     },
     "execution_count": 26,
     "metadata": {},
     "output_type": "execute_result"
    }
   ],
   "source": [
    "find_max(71283,734)"
   ]
  },
  {
   "cell_type": "code",
   "execution_count": 27,
   "id": "48ea289a",
   "metadata": {},
   "outputs": [
    {
     "data": {
      "text/plain": [
       "-1"
      ]
     },
     "execution_count": 27,
     "metadata": {},
     "output_type": "execute_result"
    }
   ],
   "source": [
    "find_max(78,45)"
   ]
  },
  {
   "cell_type": "code",
   "execution_count": 28,
   "id": "4e7af1b1",
   "metadata": {},
   "outputs": [
    {
     "data": {
      "text/plain": [
       "90"
      ]
     },
     "execution_count": 28,
     "metadata": {},
     "output_type": "execute_result"
    }
   ],
   "source": [
    "find_max(22,98)"
   ]
  },
  {
   "cell_type": "code",
   "execution_count": null,
   "id": "d0bf4614",
   "metadata": {},
   "outputs": [],
   "source": []
  }
 ],
 "metadata": {
  "kernelspec": {
   "display_name": "Python 3",
   "language": "python",
   "name": "python3"
  },
  "language_info": {
   "codemirror_mode": {
    "name": "ipython",
    "version": 3
   },
   "file_extension": ".py",
   "mimetype": "text/x-python",
   "name": "python",
   "nbconvert_exporter": "python",
   "pygments_lexer": "ipython3",
   "version": "3.8.8"
  }
 },
 "nbformat": 4,
 "nbformat_minor": 5
}
